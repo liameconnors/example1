{
  "nbformat": 4,
  "nbformat_minor": 0,
  "metadata": {
    "colab": {
      "name": "6.1_data-visualization_exercise.ipynb",
      "version": "0.3.2",
      "provenance": [],
      "collapsed_sections": [],
      "include_colab_link": true
    },
    "kernelspec": {
      "name": "python3",
      "display_name": "Python 3"
    }
  },
  "cells": [
    {
      "cell_type": "markdown",
      "metadata": {
        "id": "view-in-github",
        "colab_type": "text"
      },
      "source": [
        "<a href=\"https://colab.research.google.com/github/liameconnors/example1/blob/master/6_1_data_visualization_exercise.ipynb\" target=\"_parent\"><img src=\"https://colab.research.google.com/assets/colab-badge.svg\" alt=\"Open In Colab\"/></a>"
      ]
    },
    {
      "metadata": {
        "id": "DImkhpU42aHq",
        "colab_type": "text"
      },
      "cell_type": "markdown",
      "source": [
        "## Import `pyplot` from `matplotlib` as `plt`."
      ]
    },
    {
      "metadata": {
        "id": "xwsZkxhi2aHw",
        "colab_type": "code",
        "colab": {}
      },
      "cell_type": "code",
      "source": [
        ""
      ],
      "execution_count": 0,
      "outputs": []
    },
    {
      "metadata": {
        "id": "f6mpXZkL2aIE",
        "colab_type": "text"
      },
      "cell_type": "markdown",
      "source": [
        "## Add `matplotlib` magic for inline plots.\n",
        "\n",
        "\n",
        "\n"
      ]
    },
    {
      "metadata": {
        "id": "urkVvJAh2aIH",
        "colab_type": "code",
        "colab": {}
      },
      "cell_type": "code",
      "source": [
        ""
      ],
      "execution_count": 0,
      "outputs": []
    },
    {
      "metadata": {
        "id": "2YxANGGn2aIN",
        "colab_type": "text"
      },
      "cell_type": "markdown",
      "source": [
        "## Create an empty plot using `.plot()` method from the `matplotlib.pyplot module`."
      ]
    },
    {
      "metadata": {
        "id": "yKhsK1a92aIP",
        "colab_type": "code",
        "colab": {}
      },
      "cell_type": "code",
      "source": [
        ""
      ],
      "execution_count": 0,
      "outputs": []
    },
    {
      "metadata": {
        "id": "6aCcA1Xb2aIS",
        "colab_type": "text"
      },
      "cell_type": "markdown",
      "source": [
        "## Create a simple line with the points [1,1] and [2,2] using `plt.plot()`."
      ]
    },
    {
      "metadata": {
        "id": "nzUGzDiD2aIT",
        "colab_type": "code",
        "colab": {}
      },
      "cell_type": "code",
      "source": [
        ""
      ],
      "execution_count": 0,
      "outputs": []
    },
    {
      "metadata": {
        "id": "1nvs-FVE2aIW",
        "colab_type": "text"
      },
      "cell_type": "markdown",
      "source": [
        "## Now make it a scatterplot with the same points, [1,1] and [2,2], but use `plt.scatter()` instead."
      ]
    },
    {
      "metadata": {
        "id": "P9ErO9ub2aIX",
        "colab_type": "code",
        "colab": {}
      },
      "cell_type": "code",
      "source": [
        ""
      ],
      "execution_count": 0,
      "outputs": []
    },
    {
      "metadata": {
        "collapsed": true,
        "id": "Baljlzit2aIZ",
        "colab_type": "text"
      },
      "cell_type": "markdown",
      "source": [
        "## Add a `ylabel` to it called `\"some numbers\"`."
      ]
    },
    {
      "metadata": {
        "id": "fFqkbh4l2aIa",
        "colab_type": "code",
        "colab": {}
      },
      "cell_type": "code",
      "source": [
        ""
      ],
      "execution_count": 0,
      "outputs": []
    },
    {
      "metadata": {
        "id": "vML3YKde2aId",
        "colab_type": "text"
      },
      "cell_type": "markdown",
      "source": [
        "## Import `seaborn` as `sns`\n",
        "\n",
        "If this fails, open up a terminal, type `conda install seaborn`, and restart the Jupyter Notebook server."
      ]
    },
    {
      "metadata": {
        "id": "nptAz_uO2aIe",
        "colab_type": "code",
        "colab": {}
      },
      "cell_type": "code",
      "source": [
        ""
      ],
      "execution_count": 0,
      "outputs": []
    },
    {
      "metadata": {
        "id": "L5iIobty2aIh",
        "colab_type": "text"
      },
      "cell_type": "markdown",
      "source": [
        "## Set `seaborn` to \"on\" to style your plots"
      ]
    },
    {
      "metadata": {
        "id": "PzFofM0Y2aIj",
        "colab_type": "text"
      },
      "cell_type": "markdown",
      "source": [
        "Use the command `sns.set()`."
      ]
    },
    {
      "metadata": {
        "id": "4ZvKjhng2aIk",
        "colab_type": "code",
        "colab": {}
      },
      "cell_type": "code",
      "source": [
        ""
      ],
      "execution_count": 0,
      "outputs": []
    },
    {
      "metadata": {
        "id": "BEEnGXDP2aIn",
        "colab_type": "text"
      },
      "cell_type": "markdown",
      "source": [
        "## Create an empty plot using `plt.plot()`."
      ]
    },
    {
      "metadata": {
        "id": "bd1FyAtf2aIo",
        "colab_type": "code",
        "colab": {}
      },
      "cell_type": "code",
      "source": [
        ""
      ],
      "execution_count": 0,
      "outputs": []
    },
    {
      "metadata": {
        "id": "Gc6WVADp2aIs",
        "colab_type": "text"
      },
      "cell_type": "markdown",
      "source": [
        "## Create a simple line with the points [1,1] and [2,2] using `plt.plot()`."
      ]
    },
    {
      "metadata": {
        "id": "onC-lWa42aIt",
        "colab_type": "code",
        "colab": {}
      },
      "cell_type": "code",
      "source": [
        ""
      ],
      "execution_count": 0,
      "outputs": []
    },
    {
      "metadata": {
        "id": "6mTTVIxf2aIw",
        "colab_type": "text"
      },
      "cell_type": "markdown",
      "source": [
        "## Now make it a scatterplot with the same points, [1,1] and [2,2], but use `plt.scatter()` instead.\n",
        "Add a `ylabel` to it called `\"some numbers\"`."
      ]
    },
    {
      "metadata": {
        "id": "rBj36fiN2aIw",
        "colab_type": "code",
        "colab": {}
      },
      "cell_type": "code",
      "source": [
        ""
      ],
      "execution_count": 0,
      "outputs": []
    }
  ]
}